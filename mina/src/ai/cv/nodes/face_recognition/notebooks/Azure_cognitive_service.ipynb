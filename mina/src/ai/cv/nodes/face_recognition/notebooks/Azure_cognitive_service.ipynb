{
  "nbformat": 4,
  "nbformat_minor": 0,
  "metadata": {
    "colab": {
      "name": "Azure cognitive service.ipynb",
      "provenance": [],
      "collapsed_sections": []
    },
    "kernelspec": {
      "name": "python3",
      "display_name": "Python 3"
    },
    "language_info": {
      "name": "python"
    }
  },
  "cells": [
    {
      "cell_type": "markdown",
      "metadata": {
        "id": "NY5Gc0WEEona"
      },
      "source": [
        "* https://docs.microsoft.com/en-us/azure/cognitive-services/face/quickstarts/client-libraries?tabs=visual-studio&pivots=programming-language-python\n",
        "* https://westus.dev.cognitive.microsoft.com/docs/services/563879b61984550e40cbbe8d/operations/563879b61984550f30395250"
      ]
    },
    {
      "cell_type": "markdown",
      "metadata": {
        "id": "0nwueAL59zXm"
      },
      "source": [
        "# Get free tire from azure "
      ]
    },
    {
      "cell_type": "markdown",
      "metadata": {
        "id": "rseI7SowntUY"
      },
      "source": [
        "## Step 1 : Create free azure account\n",
        "\n",
        "## Step 2 : Go to your portal > click on AI + machine learning > click on see all (Free training from Microsoft sell all(this one see all) ) > search by Face > selece : Identify faces and expressions by using the Computer Vision API in Azure Cognitive Services \n",
        "\n",
        "* Yo tutoraila padyasi last ma kasari Subscription key and endpoint lini vanyara vanxa.\n",
        "\n",
        "## Step 3  : step 2  padyapaxi hamle : Subscription key and endpoint lini vanyara vanxa.\n",
        "\n",
        "## Step 4 : Select + Create a resource > AI + Machine Learning > Face. Resource create garni suruma (auta Plus blank button x create a resource vanyara) \n",
        "\n",
        "## Step 5 : Enter a unique name for your Face API subscription, and then choose the Location nearest to you.\n",
        "\n",
        "## Step 6 : Select the free or lowest-cost Pricing tier.\n",
        "\n",
        "## Step 7 : Create a new Resource group named mslearn-faceapi. You'll later delete these resources.\n",
        "\n",
        "## Step 8 : Acknowledge the Cognitive Services notice that uses of this service is not for a police department.\n",
        "\n",
        "## Step 9 : Select Create to subscribe to the Face API.\n",
        "\n",
        "\n",
        "\n",
        "\n",
        " \n",
        " "
      ]
    },
    {
      "cell_type": "markdown",
      "metadata": {
        "id": "vEVzBvCdtgP8"
      },
      "source": [
        "## Access the subscription key and endpoint ( end point and key tyahanira didaiina so kaha jani ta vanda)\n",
        "\n",
        "### After you create a Face API subscription, you're almost ready to start experimenting with the Face API.\n",
        "\n",
        "### Because all Computer Vision APIs are REST-based, you can use your language of choice to provide a subscription key (or API key) to the Computer Vision API endpoint (or URL).\n",
        "\n",
        "### To view the subscription key and endpoint for your Computer Vision subscription:\n",
        "\n",
        "### On the left sidebar, select Resource groups, and then select the resource group you created for the Computer Vision API.\n",
        "\n",
        "### To view your new subscription keys, select the Face API subscription name (such as Face). Then under Resource Management, select Keys and Endpoints.\n",
        "\n",
        "### Copy and save the values of KEY 1 and ENDPOINT. These will be used when connecting to the API.\n",
        "\n"
      ]
    },
    {
      "cell_type": "markdown",
      "metadata": {
        "id": "gu9wplC2uYX5"
      },
      "source": [
        "Maile \n",
        "\n",
        "\n",
        "```\n",
        "gmail : madan.baduwal@nicnepal.org\n",
        "password :\n",
        "\n",
        "Key 1 : d1c82aaaf4f145c39e4397ec83602c7e\n",
        "\n",
        "key 2 : e935727a1bb14cfaad294565904da6d6\n",
        "\n",
        "end point : https://madan.cognitiveservices.azure.com/\n",
        "\n",
        "location : eastus\n",
        "\n",
        "\n",
        "Note : duota key ma jun use garyani hunxa , \n",
        "\n",
        "teskai maithi regenerating feature x , auta key regenerate garirako bela arko use garna milxa vanyara duota key deko ho.\n",
        "\n",
        "```\n",
        "\n"
      ]
    },
    {
      "cell_type": "markdown",
      "metadata": {
        "id": "9zo1VEWV-MAE"
      },
      "source": [
        "# Code  example"
      ]
    },
    {
      "cell_type": "markdown",
      "metadata": {
        "id": "AZN6tc9Hvd46"
      },
      "source": [
        "## Exercise - Test the Face Detection API\n"
      ]
    },
    {
      "cell_type": "code",
      "metadata": {
        "id": "GuiswLDlEntL"
      },
      "source": [
        "! export COGNITIVE_SERVICE_KEY=d1c82aaaf4f145c39e4397ec83602c7e # notebook ma yo mannirako xaina tala herda , so yo only os ma garni ok.\n",
        "! export COGNITIVE_SERVICE_ENDPOINT=https://madan.cognitiveservices.azure.com/"
      ],
      "execution_count": 1,
      "outputs": []
    },
    {
      "cell_type": "code",
      "metadata": {
        "id": "2YJ02J88wGzU"
      },
      "source": [
        "! pip install azure-cognitiveservices-vision-face"
      ],
      "execution_count": null,
      "outputs": []
    },
    {
      "cell_type": "code",
      "metadata": {
        "id": "qiu3Wma1wTKQ"
      },
      "source": [
        "import os\n",
        "from msrest.authentication import CognitiveServicesCredentials\n",
        "from azure.cognitiveservices.vision.face import FaceClient"
      ],
      "execution_count": 3,
      "outputs": []
    },
    {
      "cell_type": "code",
      "metadata": {
        "id": "vTyPIZx0wX_A"
      },
      "source": [
        "def get_face_client():\n",
        "    \"\"\"Create an authenticated FaceClient.\"\"\"\n",
        "    SUBSCRIPTION_KEY = \"d1c82aaaf4f145c39e4397ec83602c7e\" # os.environ[\"COGNITIVE_SERVICE_KEY\"]\n",
        "    ENDPOINT = \"https://madan.cognitiveservices.azure.com/\" #os.environ[\"COGNITIVE_SERVICE_ENDPOINT\"]\n",
        "    credential = CognitiveServicesCredentials(SUBSCRIPTION_KEY)\n",
        "    return FaceClient(ENDPOINT, credential)"
      ],
      "execution_count": 10,
      "outputs": []
    },
    {
      "cell_type": "code",
      "metadata": {
        "colab": {
          "base_uri": "https://localhost:8080/"
        },
        "id": "e7HXwoMEwePQ",
        "outputId": "c3f9f95b-cba0-45a5-dc15-bda19404ee4f"
      },
      "source": [
        "get_face_client()"
      ],
      "execution_count": 11,
      "outputs": [
        {
          "output_type": "execute_result",
          "data": {
            "text/plain": [
              "<azure.cognitiveservices.vision.face._face_client.FaceClient at 0x7f427843bb90>"
            ]
          },
          "metadata": {
            "tags": []
          },
          "execution_count": 11
        }
      ]
    },
    {
      "cell_type": "code",
      "metadata": {
        "colab": {
          "base_uri": "https://localhost:8080/"
        },
        "id": "52OoZ9-6wgdh",
        "outputId": "d961d5d3-f913-4d7b-e754-b305dcc9db97"
      },
      "source": [
        "face_client = get_face_client()\n",
        "\n",
        "url = \"https://docs.microsoft.com/en-us/learn/data-ai-cert/identify-faces-with-computer-vision/media/clo19_ubisoft_azure_068.png\"\n",
        "\n",
        "attributes = [\"emotion\", \"glasses\", \"smile\"]\n",
        "include_id = True\n",
        "include_landmarks = False\n",
        "\n",
        "detected_faces = face_client.face.detect_with_url(url, include_id, include_landmarks, attributes, raw=True)\n",
        "\n",
        "if not detected_faces:\n",
        "    raise Exception('No face detected in image')\n",
        "\n",
        "print(detected_faces.response.json())"
      ],
      "execution_count": 12,
      "outputs": [
        {
          "output_type": "stream",
          "text": [
            "[{'faceId': '2d8eb358-7942-4983-ad64-b88407f0e65c', 'faceRectangle': {'top': 303, 'left': 920, 'width': 161, 'height': 161}, 'faceAttributes': {'smile': 0.978, 'glasses': 'ReadingGlasses', 'emotion': {'anger': 0.0, 'contempt': 0.0, 'disgust': 0.0, 'fear': 0.0, 'happiness': 0.978, 'neutral': 0.019, 'sadness': 0.002, 'surprise': 0.0}}}]\n"
          ],
          "name": "stdout"
        }
      ]
    },
    {
      "cell_type": "markdown",
      "metadata": {
        "id": "pFa3o7izywEO"
      },
      "source": [
        "Mathi hamle key ra end point banayam face ko lagi aba tesko documentation padxam.\n",
        "\n",
        "# [Face ](https://docs.microsoft.com/en-us/azure/cognitive-services/face/)\n",
        "\n",
        "* https://docs.microsoft.com/en-us/azure/cognitive-services/face/\n",
        "* https://westus.dev.cognitive.microsoft.com/docs/services/563879b61984550e40cbbe8d/operations/5a158c10d2de3616c086f2d3\n",
        "\n",
        "\n",
        "## This documentation contains the following types of articles:\n",
        "\n",
        "### Quickstarts\n",
        "### How  to guide\n",
        "### Conceptual articles\n",
        "### tutorials\n",
        "\n",
        "Note : hami quick start ko python code matra herxam.\n",
        "\n"
      ]
    },
    {
      "cell_type": "markdown",
      "metadata": {
        "id": "_OQgm_jP-oTD"
      },
      "source": [
        "# Quick start"
      ]
    },
    {
      "cell_type": "code",
      "metadata": {
        "id": "0puAnRKoxOQS"
      },
      "source": [
        "import asyncio\n",
        "import io\n",
        "import glob\n",
        "import os\n",
        "import sys\n",
        "import time\n",
        "import uuid\n",
        "import requests\n",
        "from urllib.parse import urlparse\n",
        "from io import BytesIO\n",
        "# To install this module, run:\n",
        "# python -m pip install Pillow\n",
        "from PIL import Image, ImageDraw\n",
        "from azure.cognitiveservices.vision.face import FaceClient\n",
        "from msrest.authentication import CognitiveServicesCredentials\n",
        "from azure.cognitiveservices.vision.face.models import TrainingStatusType, Person"
      ],
      "execution_count": 13,
      "outputs": []
    },
    {
      "cell_type": "code",
      "metadata": {
        "id": "DW-YLYwr0_2O"
      },
      "source": [
        "# This key will serve all examples in this document.\n",
        "KEY = \"d1c82aaaf4f145c39e4397ec83602c7e\"\n",
        "\n",
        "# This endpoint will be used in all examples in this quickstart.\n",
        "ENDPOINT = \"https://madan.cognitiveservices.azure.com/\""
      ],
      "execution_count": 14,
      "outputs": []
    },
    {
      "cell_type": "code",
      "metadata": {
        "id": "jOVOxHYy1i9O"
      },
      "source": [
        "# Create an authenticated FaceClient.\n",
        "face_client = FaceClient(ENDPOINT, CognitiveServicesCredentials(KEY))"
      ],
      "execution_count": 15,
      "outputs": []
    },
    {
      "cell_type": "markdown",
      "metadata": {
        "id": "Ie6_rHng2J8A"
      },
      "source": [
        "## Detect faces in an image ( detected_faces vanni object ma detect garyara return grxa)\n",
        "\n",
        "* detect_faces vanni object ma k k return vako x tyo tha pauni most\n",
        "\n",
        "### detect_faces object ma image ma jati pani face detect vako xan tiniharuko auta unique id auxa.\n",
        "\n",
        "### most important part : detect vako faces haru xan ni tyo each faces haruko lagi auta auta reference(kai unique id ) generate garxa"
      ]
    },
    {
      "cell_type": "markdown",
      "metadata": {
        "id": "hgE1Hex22_Hz"
      },
      "source": [
        "### Single face in an image."
      ]
    },
    {
      "cell_type": "code",
      "metadata": {
        "colab": {
          "base_uri": "https://localhost:8080/"
        },
        "id": "JqgnqKdV1jkV",
        "outputId": "2aad812d-e99a-4867-bc21-47475b976e7e"
      },
      "source": [
        "# Detect a face in an image that contains a single face\n",
        "single_face_image_url = 'https://www.biography.com/.image/t_share/MTQ1MzAyNzYzOTgxNTE0NTEz/john-f-kennedy---mini-biography.jpg'\n",
        "single_image_name = os.path.basename(single_face_image_url)\n",
        "# We use detection model 3 to get better performance.\n",
        "detected_faces = face_client.face.detect_with_url(url=single_face_image_url, detection_model='detection_03')\n",
        "if not detected_faces:\n",
        "    raise Exception('No face detected from image {}'.format(single_image_name))\n",
        "\n",
        "# Display the detected face ID in the first single-face image.\n",
        "# Face IDs are used for comparison to faces (their IDs) detected in other images.\n",
        "print('Detected face ID from', single_image_name, ':')\n",
        "for face in detected_faces: print (face.face_id)\n",
        "print()\n",
        "\n",
        "# Save this ID for use in Find Similar\n",
        "first_image_face_ID = detected_faces[0].face_id"
      ],
      "execution_count": 16,
      "outputs": [
        {
          "output_type": "stream",
          "text": [
            "Detected face ID from john-f-kennedy---mini-biography.jpg :\n",
            "bc2b55e5-5368-4f54-b26f-9b31263ae5c1\n",
            "\n"
          ],
          "name": "stdout"
        }
      ]
    },
    {
      "cell_type": "code",
      "metadata": {
        "colab": {
          "base_uri": "https://localhost:8080/"
        },
        "id": "WiFcNPetA2RB",
        "outputId": "27e5bf4a-4385-4d95-e3e2-f3be9ca85798"
      },
      "source": [
        "print(type(first_image_face_ID))"
      ],
      "execution_count": 30,
      "outputs": [
        {
          "output_type": "stream",
          "text": [
            "<class 'str'>\n"
          ],
          "name": "stdout"
        }
      ]
    },
    {
      "cell_type": "code",
      "metadata": {
        "colab": {
          "base_uri": "https://localhost:8080/"
        },
        "id": "9xkv9AWY13_6",
        "outputId": "03d11a1e-fb76-4110-8515-e06ded6c5fe8"
      },
      "source": [
        "detected_faces"
      ],
      "execution_count": 17,
      "outputs": [
        {
          "output_type": "execute_result",
          "data": {
            "text/plain": [
              "[<azure.cognitiveservices.vision.face.models._models_py3.DetectedFace at 0x7f42783d7d10>]"
            ]
          },
          "metadata": {
            "tags": []
          },
          "execution_count": 17
        }
      ]
    },
    {
      "cell_type": "markdown",
      "metadata": {
        "id": "G8Isuj0-3DIf"
      },
      "source": [
        "### Multiple faces in an image"
      ]
    },
    {
      "cell_type": "code",
      "metadata": {
        "colab": {
          "base_uri": "https://localhost:8080/"
        },
        "id": "qrEizNsN2dnj",
        "outputId": "5e3c69cf-26fd-4804-9683-beb97fc4417f"
      },
      "source": [
        "\n",
        "# Detect a face in an image that contains a single face\n",
        "single_face_image_url = 'https://i.imgur.com/TTHS1VR.jpg'\n",
        "single_image_name = os.path.basename(single_face_image_url)\n",
        "# We use detection model 3 to get better performance.\n",
        "detected_faces = face_client.face.detect_with_url(url=single_face_image_url, detection_model='detection_03')\n",
        "if not detected_faces:\n",
        "    raise Exception('No face detected from image {}'.format(single_image_name))\n",
        "\n",
        "# Display the detected face ID in the first single-face image.\n",
        "# Face IDs are used for comparison to faces (their IDs) detected in other images.\n",
        "print('Detected face ID from', single_image_name, ':')\n",
        "for face in detected_faces: print (face.face_id)\n",
        "print()\n",
        "\n",
        "# Save this ID for use in Find Similar\n",
        "first_image_face_ID = detected_faces[0].face_id"
      ],
      "execution_count": 18,
      "outputs": [
        {
          "output_type": "stream",
          "text": [
            "Detected face ID from TTHS1VR.jpg :\n",
            "bb26cd60-57be-45fb-a2b9-b6eff1ddf8e3\n",
            "43f6164d-291b-4a76-93bc-8b20eba9f76e\n",
            "628bed31-7021-4e91-a0a1-4f59e8e22223\n",
            "8a3568ea-81b6-43b7-808b-8126e706bcce\n",
            "\n"
          ],
          "name": "stdout"
        }
      ]
    },
    {
      "cell_type": "markdown",
      "metadata": {
        "id": "gvIdxiid3Syg"
      },
      "source": [
        "### Note : You can also detect faces in a local image. See the [FaceOperations](https://docs.microsoft.com/en-us/python/api/azure-cognitiveservices-vision-face/azure.cognitiveservices.vision.face.operations.faceoperations?view=azure-python) methods such as detect_with_stream."
      ]
    },
    {
      "cell_type": "markdown",
      "metadata": {
        "id": "2hhAulrY4D6M"
      },
      "source": [
        "## Display and frame faces"
      ]
    },
    {
      "cell_type": "code",
      "metadata": {
        "colab": {
          "base_uri": "https://localhost:8080/",
          "height": 291
        },
        "id": "JNXErlBO3Fik",
        "outputId": "0bc1026d-cca8-4ec0-9900-78d20528eeea"
      },
      "source": [
        "# Detect a face in an image that contains a single face\n",
        "single_face_image_url = 'https://pbs.twimg.com/profile_images/649547506871701504/lC-keuDm_400x400.jpg'\n",
        "single_image_name = os.path.basename(single_face_image_url)\n",
        "# We use detection model 3 to get better performance.\n",
        "detected_faces = face_client.face.detect_with_url(url=single_face_image_url, detection_model='detection_03')\n",
        "if not detected_faces:\n",
        "    raise Exception('No face detected from image {}'.format(single_image_name))\n",
        "\n",
        "# Convert width height to a point in a rectangle\n",
        "def getRectangle(faceDictionary):\n",
        "    rect = faceDictionary.face_rectangle\n",
        "    left = rect.left\n",
        "    top = rect.top\n",
        "    right = left + rect.width\n",
        "    bottom = top + rect.height\n",
        "    \n",
        "    return ((left, top), (right, bottom))\n",
        "\n",
        "\n",
        "# Download the image from the url\n",
        "response = requests.get(single_face_image_url)\n",
        "img = Image.open(BytesIO(response.content))\n",
        "\n",
        "# For each face returned use the face rectangle and draw a red box.\n",
        "print('Drawing rectangle around face... see popup for results.')\n",
        "draw = ImageDraw.Draw(img)\n",
        "for face in detected_faces:\n",
        "    draw.rectangle(getRectangle(face), outline='red')\n",
        "\n",
        "# Display the image in the users default image browser.\n",
        "img.show()\n",
        "display(img)"
      ],
      "execution_count": 24,
      "outputs": [
        {
          "output_type": "stream",
          "text": [
            "Drawing rectangle around face... see popup for results.\n"
          ],
          "name": "stdout"
        },
        {
          "output_type": "display_data",
          "data": {
            "image/png": "[encoded data removed]",
            "text/plain": [
              "<PIL.JpegImagePlugin.JpegImageFile image mode=RGB size=256x256 at 0x7F4277EA6690>"
            ]
          },
          "metadata": {
            "tags": []
          }
        }
      ]
    },
    {
      "cell_type": "markdown",
      "metadata": {
        "id": "JORoLgc_9VlP"
      },
      "source": [
        "###  Note :  yaha samma hamle faces haru detect garyam and ti faceharuko lag unique id generate garyam"
      ]
    },
    {
      "cell_type": "markdown",
      "metadata": {
        "id": "_1o2VFwF9Val"
      },
      "source": [
        "## Find similar faces"
      ]
    },
    {
      "cell_type": "markdown",
      "metadata": {
        "id": "c0YAtTEm4Fxk"
      },
      "source": [
        "\n",
        "\n",
        "**The following code takes a single detected face (source) and searches a set of other faces (target) to find matches (face search by image). When it finds a match, it prints the ID of the matched face to the console.**\n",
        "\n",
        "Most important part\n",
        "\n",
        "### Source and target: detected_faces vanni object ma jati face detect vako xan ni tesmadhya auta lai source vanyara linxa and aru lai target vanyara linxa.\n",
        "\n"
      ]
    },
    {
      "cell_type": "markdown",
      "metadata": {
        "id": "oBEry-AK6wWL"
      },
      "source": [
        "###  Find matches ( auta detected face id lai aru detected face ids ko list ma khojxa)\n",
        "### First, run the code in the above section (Detect faces in an image) to save a reference to a single face. Then run the following code to get references to several faces in a group image.\n",
        "\n",
        "\n"
      ]
    },
    {
      "cell_type": "code",
      "metadata": {
        "colab": {
          "base_uri": "https://localhost:8080/"
        },
        "id": "9SovQhjf3pKI",
        "outputId": "4d51486a-8c29-4f67-97ac-a0d25805567c"
      },
      "source": [
        "# Detect the faces in an image that contains multiple faces\n",
        "# Each detected face gets assigned a new ID\n",
        "multi_face_image_url = \"http://www.historyplace.com/kennedy/president-family-portrait-closeup.jpg\"\n",
        "multi_image_name = os.path.basename(multi_face_image_url)\n",
        "# We use detection model 3 to get better performance.\n",
        "detected_faces2 = face_client.face.detect_with_url(url=multi_face_image_url, detection_model='detection_03')\n",
        "\n",
        "for face in detected_faces2: print (face.face_id)\n",
        "print()\n"
      ],
      "execution_count": 26,
      "outputs": [
        {
          "output_type": "stream",
          "text": [
            "aea1a612-a98d-4012-be09-52fdf61da2a6\n",
            "ef102f24-1e94-4b05-960c-02f1440634c3\n",
            "fd4c1ff6-d0e8-402d-84b9-a6cf102b9d68\n",
            "d352dee2-be38-4392-b9bb-be400f70b9eb\n",
            "6a37da1c-2be4-45df-816d-8e2101ed971d\n",
            "6eb00608-4b58-4b69-b56f-d019a68d7e72\n",
            "7e351619-3b92-4687-b1bf-ea2b7fc0908b\n",
            "0779af09-0ad3-4ca1-a50d-a89b7435705f\n",
            "b5e25471-fe76-4052-b538-0e7a37ea279a\n",
            "\n"
          ],
          "name": "stdout"
        }
      ]
    },
    {
      "cell_type": "markdown",
      "metadata": {
        "id": "mk4hvXSa7kgW"
      },
      "source": [
        "Then add the following code block to find instances of the first face in the group. See the [find_similar](https://docs.microsoft.com/en-us/python/api/azure-cognitiveservices-vision-face/azure.cognitiveservices.vision.face.operations.faceoperations?view=azure-python#find-similar-face-id--face-list-id-none--large-face-list-id-none--face-ids-none--max-num-of-candidates-returned-20--mode--matchperson---custom-headers-none--raw-false----operation-config-) method to learn how to modify this behavior."
      ]
    },
    {
      "cell_type": "code",
      "metadata": {
        "colab": {
          "base_uri": "https://localhost:8080/"
        },
        "id": "XC5m6Mtv7V1i",
        "outputId": "ce71b0ee-4b75-4ade-a8b6-e484ec91d79a"
      },
      "source": [
        "# Search through faces detected in group image for the single face from first image.\n",
        "# First, create a list of the face IDs found in the second image.\n",
        "second_image_face_IDs = list(map(lambda x: x.face_id, detected_faces2))\n",
        "for face in second_image_face_IDs: print (face)\n",
        "print()\n",
        "# Next, find similar face IDs like the one detected in the first image.\n"
      ],
      "execution_count": 28,
      "outputs": [
        {
          "output_type": "stream",
          "text": [
            "aea1a612-a98d-4012-be09-52fdf61da2a6\n",
            "ef102f24-1e94-4b05-960c-02f1440634c3\n",
            "fd4c1ff6-d0e8-402d-84b9-a6cf102b9d68\n",
            "d352dee2-be38-4392-b9bb-be400f70b9eb\n",
            "6a37da1c-2be4-45df-816d-8e2101ed971d\n",
            "6eb00608-4b58-4b69-b56f-d019a68d7e72\n",
            "7e351619-3b92-4687-b1bf-ea2b7fc0908b\n",
            "0779af09-0ad3-4ca1-a50d-a89b7435705f\n",
            "b5e25471-fe76-4052-b538-0e7a37ea279a\n",
            "\n"
          ],
          "name": "stdout"
        }
      ]
    },
    {
      "cell_type": "code",
      "metadata": {
        "colab": {
          "base_uri": "https://localhost:8080/"
        },
        "id": "pKXK3jGVAY2F",
        "outputId": "74dfd247-ed1d-4488-eeac-2f93a5af2201"
      },
      "source": [
        "similar_faces = face_client.face.find_similar(face_id=first_image_face_ID, face_ids=second_image_face_IDs) # first auta element(string) second list of image ids. \n"
      ],
      "execution_count": 29,
      "outputs": [
        {
          "output_type": "stream",
          "text": [
            "No similar faces found in president-family-portrait-closeup.jpg .\n"
          ],
          "name": "stdout"
        }
      ]
    },
    {
      "cell_type": "markdown",
      "metadata": {
        "id": "7jxX9VfBBM9i"
      },
      "source": [
        "### Print matches\n",
        "Use the following code to print the match details to the console."
      ]
    },
    {
      "cell_type": "code",
      "metadata": {
        "colab": {
          "base_uri": "https://localhost:8080/"
        },
        "id": "Pp8mQ4-pAtEk",
        "outputId": "213fc334-8d89-4c63-cb84-73f2f9a7ead3"
      },
      "source": [
        "if not similar_faces:\n",
        "    print('No similar faces found in', multi_image_name, '.')\n",
        "# Print the details of the similar faces detected\n",
        "else:\n",
        "    print('Similar faces found in', multi_image_name + ':')\n",
        "    for face in similar_faces:\n",
        "        first_image_face_ID = face.face_id\n",
        "        # The similar face IDs of the single face image and the group image do not need to match, \n",
        "        # they are only used for identification purposes in each image.\n",
        "        # The similar faces are matched using the Cognitive Services algorithm in find_similar().\n",
        "        face_info = next(x for x in detected_faces2 if x.face_id == first_image_face_ID)\n",
        "        if face_info:\n",
        "            print('  Face ID: ', first_image_face_ID)\n",
        "            print('  Face rectangle:')\n",
        "            print('    Left: ', str(face_info.face_rectangle.left))\n",
        "            print('    Top: ', str(face_info.face_rectangle.top))\n",
        "            print('    Width: ', str(face_info.face_rectangle.width))\n",
        "            print('    Height: ', str(face_info.face_rectangle.height))"
      ],
      "execution_count": 32,
      "outputs": [
        {
          "output_type": "stream",
          "text": [
            "No similar faces found in president-family-portrait-closeup.jpg .\n"
          ],
          "name": "stdout"
        }
      ]
    },
    {
      "cell_type": "markdown",
      "metadata": {
        "id": "jrL-DbMvB-JZ"
      },
      "source": [
        "## Create and train a PersonGroup\n",
        "\n",
        "The following code creates a PersonGroup with three different Person objects. It associates each Person with a set of example images, and then it trains to be able to recognize each person.\n",
        "\n",
        "### **Person group > person group bhitra dherai person hunxan > each person ko image ko object banxa>each object bhitra autai person ko dherai image hunxan > and then it trains to be able to recognize each person.**"
      ]
    },
    {
      "cell_type": "markdown",
      "metadata": {
        "id": "9oojoLDeGDyS"
      },
      "source": [
        "### Step 1 : Person group object banaunuparyo"
      ]
    },
    {
      "cell_type": "code",
      "metadata": {
        "id": "td8RVWlvBu9n"
      },
      "source": [
        "# Used in the Person Group Operations and Delete Person Group examples.\n",
        "# You can call list_person_groups to print a list of preexisting PersonGroups.\n",
        "# SOURCE_PERSON_GROUP_ID should be all lowercase and alphanumeric. For example, 'mygroupname' (dashes are OK).\n",
        "PERSON_GROUP_ID = \"hi\" #str(uuid.uuid4()) # assign a random ID (or name it anything) # j\n",
        "\n",
        "# Used for the Delete Person Group example.\n",
        "TARGET_PERSON_GROUP_ID = str(uuid.uuid4()) # assign a random ID (or name it anything)"
      ],
      "execution_count": 114,
      "outputs": []
    },
    {
      "cell_type": "code",
      "metadata": {
        "colab": {
          "base_uri": "https://localhost:8080/",
          "height": 35
        },
        "id": "4AXUJo2APMZg",
        "outputId": "54bf4cc4-8fe7-49e4-d24f-29cc33fd5606"
      },
      "source": [
        "str(uuid.uuid4()) # randomy generate garni raixa"
      ],
      "execution_count": 115,
      "outputs": [
        {
          "output_type": "execute_result",
          "data": {
            "application/vnd.google.colaboratory.intrinsic+json": {
              "type": "string"
            },
            "text/plain": [
              "'5f05b998-b56b-4d72-8bb3-7a7dcb86c316'"
            ]
          },
          "metadata": {
            "tags": []
          },
          "execution_count": 115
        }
      ]
    },
    {
      "cell_type": "code",
      "metadata": {
        "colab": {
          "base_uri": "https://localhost:8080/",
          "height": 35
        },
        "id": "V0XkYZ9iRwlX",
        "outputId": "de180fcb-451d-4110-894c-d6b02880e7aa"
      },
      "source": [
        "PERSON_GROUP_ID"
      ],
      "execution_count": 116,
      "outputs": [
        {
          "output_type": "execute_result",
          "data": {
            "application/vnd.google.colaboratory.intrinsic+json": {
              "type": "string"
            },
            "text/plain": [
              "'hi'"
            ]
          },
          "metadata": {
            "tags": []
          },
          "execution_count": 116
        }
      ]
    },
    {
      "cell_type": "markdown",
      "metadata": {
        "id": "V0DTZ08nPVtL"
      },
      "source": [
        "Maile afai name ni dena milxa group ko:\n"
      ]
    },
    {
      "cell_type": "code",
      "metadata": {
        "id": "dRbO3xcNPZao"
      },
      "source": [
        "# PERSON_GROUP_ID  = \"Baduwal family\" # yasari auta group banaunu paryo"
      ],
      "execution_count": 68,
      "outputs": []
    },
    {
      "cell_type": "markdown",
      "metadata": {
        "id": "msQX7ylcMNn1"
      },
      "source": [
        "To list the Person group we  created."
      ]
    },
    {
      "cell_type": "code",
      "metadata": {
        "colab": {
          "base_uri": "https://localhost:8080/"
        },
        "id": "Z_kIqxWcGP3d",
        "outputId": "5fdfdfc1-dc37-4a33-99ad-138f1205f881"
      },
      "source": [
        "! GET https://madan.cognitiveservices.azure.com/face/v1.0/persongroups?start=sample_group&top=2&returnRecognitionModel=True\n"
      ],
      "execution_count": 69,
      "outputs": [
        {
          "output_type": "stream",
          "text": [
            "/bin/bash: GET: command not found\n"
          ],
          "name": "stdout"
        }
      ]
    },
    {
      "cell_type": "code",
      "metadata": {
        "colab": {
          "base_uri": "https://localhost:8080/",
          "height": 132
        },
        "id": "m92MFIhKGW-Y",
        "outputId": "54208ee2-b9a1-4642-b95f-8e8473a4631d"
      },
      "source": [
        "# Yaslai chai header ma rakhnuparyo\n",
        "\n",
        "Postman bata call garda .\n",
        "\n",
        "header ma\n",
        "\n",
        "key : Ocp-Apim-Subscription-Key\n",
        "value : d1c82aaaf4f145c39e4397ec83602c7e"
      ],
      "execution_count": 70,
      "outputs": [
        {
          "output_type": "error",
          "ename": "SyntaxError",
          "evalue": "ignored",
          "traceback": [
            "\u001b[0;36m  File \u001b[0;32m\"<ipython-input-70-19a22badb7ca>\"\u001b[0;36m, line \u001b[0;32m3\u001b[0m\n\u001b[0;31m    Postman bata call garda .\u001b[0m\n\u001b[0m               ^\u001b[0m\n\u001b[0;31mSyntaxError\u001b[0m\u001b[0;31m:\u001b[0m invalid syntax\n"
          ]
        }
      ]
    },
    {
      "cell_type": "markdown",
      "metadata": {
        "id": "hcUo--AvTAg2"
      },
      "source": [
        "### most important : persongroup banekai xaina , so first ta person group banaunu paryo."
      ]
    },
    {
      "cell_type": "code",
      "metadata": {
        "colab": {
          "base_uri": "https://localhost:8080/",
          "height": 416
        },
        "id": "HU4KyN0LTv0X",
        "outputId": "c57a6894-b136-4b8b-9870-b5222c721111"
      },
      "source": [
        "'''\n",
        "Create the PersonGroup\n",
        "'''\n",
        "# Create empty Person Group. Person Group ID must be lower case, alphanumeric, and/or with '-', '_'.\n",
        "print('Person group:', PERSON_GROUP_ID)\n",
        "test = face_client.person_group.create(person_group_id=PERSON_GROUP_ID, name=PERSON_GROUP_ID)\n",
        "\n",
        "# Define woman friend\n",
        "woman = face_client.person_group_person.create(PERSON_GROUP_ID, person_id =\"Woman\") # person group id  bhitra , madan vanyara person_group_person banaunuparyo\n",
        "# Define man friend\n",
        "man = face_client.person_group_person.create(PERSON_GROUP_ID, name = \"Man\") # person group id  bhitra , tapendra vanyara person_group_person banaunuparyo\n",
        "# Define child friend\n",
        "child = face_client.person_group_person.create(PERSON_GROUP_ID, name = \"Child\") # # person group id  bhitra , priyanka vanyara person_group_person banaunuparyo"
      ],
      "execution_count": 117,
      "outputs": [
        {
          "output_type": "stream",
          "text": [
            "Person group: hi\n"
          ],
          "name": "stdout"
        },
        {
          "output_type": "error",
          "ename": "APIErrorException",
          "evalue": "ignored",
          "traceback": [
            "\u001b[0;31m---------------------------------------------------------------------------\u001b[0m",
            "\u001b[0;31mAPIErrorException\u001b[0m                         Traceback (most recent call last)",
            "\u001b[0;32m<ipython-input-117-b2e20e488db0>\u001b[0m in \u001b[0;36m<module>\u001b[0;34m()\u001b[0m\n\u001b[1;32m      7\u001b[0m \u001b[0;34m\u001b[0m\u001b[0m\n\u001b[1;32m      8\u001b[0m \u001b[0;31m# Define woman friend\u001b[0m\u001b[0;34m\u001b[0m\u001b[0;34m\u001b[0m\u001b[0;34m\u001b[0m\u001b[0m\n\u001b[0;32m----> 9\u001b[0;31m \u001b[0mwoman\u001b[0m \u001b[0;34m=\u001b[0m \u001b[0mface_client\u001b[0m\u001b[0;34m.\u001b[0m\u001b[0mperson_group_person\u001b[0m\u001b[0;34m.\u001b[0m\u001b[0mcreate\u001b[0m\u001b[0;34m(\u001b[0m\u001b[0mPERSON_GROUP_ID\u001b[0m\u001b[0;34m,\u001b[0m \u001b[0mperson_id\u001b[0m \u001b[0;34m=\u001b[0m\u001b[0;34m\"Woman\"\u001b[0m\u001b[0;34m)\u001b[0m \u001b[0;31m# person group id  bhitra , madan vanyara person_group_person banaunuparyo\u001b[0m\u001b[0;34m\u001b[0m\u001b[0;34m\u001b[0m\u001b[0m\n\u001b[0m\u001b[1;32m     10\u001b[0m \u001b[0;31m# Define man friend\u001b[0m\u001b[0;34m\u001b[0m\u001b[0;34m\u001b[0m\u001b[0;34m\u001b[0m\u001b[0m\n\u001b[1;32m     11\u001b[0m \u001b[0mman\u001b[0m \u001b[0;34m=\u001b[0m \u001b[0mface_client\u001b[0m\u001b[0;34m.\u001b[0m\u001b[0mperson_group_person\u001b[0m\u001b[0;34m.\u001b[0m\u001b[0mcreate\u001b[0m\u001b[0;34m(\u001b[0m\u001b[0mPERSON_GROUP_ID\u001b[0m\u001b[0;34m,\u001b[0m \u001b[0mname\u001b[0m \u001b[0;34m=\u001b[0m \u001b[0;34m\"Man\"\u001b[0m\u001b[0;34m)\u001b[0m \u001b[0;31m# person group id  bhitra , tapendra vanyara person_group_person banaunuparyo\u001b[0m\u001b[0;34m\u001b[0m\u001b[0;34m\u001b[0m\u001b[0m\n",
            "\u001b[0;32m/usr/local/lib/python3.7/dist-packages/azure/cognitiveservices/vision/face/operations/_person_group_person_operations.py\u001b[0m in \u001b[0;36mcreate\u001b[0;34m(self, person_group_id, name, user_data, custom_headers, raw, **operation_config)\u001b[0m\n\u001b[1;32m     85\u001b[0m \u001b[0;34m\u001b[0m\u001b[0m\n\u001b[1;32m     86\u001b[0m         \u001b[0;32mif\u001b[0m \u001b[0mresponse\u001b[0m\u001b[0;34m.\u001b[0m\u001b[0mstatus_code\u001b[0m \u001b[0;32mnot\u001b[0m \u001b[0;32min\u001b[0m \u001b[0;34m[\u001b[0m\u001b[0;36m200\u001b[0m\u001b[0;34m]\u001b[0m\u001b[0;34m:\u001b[0m\u001b[0;34m\u001b[0m\u001b[0;34m\u001b[0m\u001b[0m\n\u001b[0;32m---> 87\u001b[0;31m             \u001b[0;32mraise\u001b[0m \u001b[0mmodels\u001b[0m\u001b[0;34m.\u001b[0m\u001b[0mAPIErrorException\u001b[0m\u001b[0;34m(\u001b[0m\u001b[0mself\u001b[0m\u001b[0;34m.\u001b[0m\u001b[0m_deserialize\u001b[0m\u001b[0;34m,\u001b[0m \u001b[0mresponse\u001b[0m\u001b[0;34m)\u001b[0m\u001b[0;34m\u001b[0m\u001b[0;34m\u001b[0m\u001b[0m\n\u001b[0m\u001b[1;32m     88\u001b[0m \u001b[0;34m\u001b[0m\u001b[0m\n\u001b[1;32m     89\u001b[0m         \u001b[0mdeserialized\u001b[0m \u001b[0;34m=\u001b[0m \u001b[0;32mNone\u001b[0m\u001b[0;34m\u001b[0m\u001b[0;34m\u001b[0m\u001b[0m\n",
            "\u001b[0;31mAPIErrorException\u001b[0m: (BadArgument) Request body is invalid."
          ]
        }
      ]
    },
    {
      "cell_type": "code",
      "metadata": {
        "colab": {
          "base_uri": "https://localhost:8080/"
        },
        "id": "bL6kiAdTfUW-",
        "outputId": "bbccc416-fd2b-4623-9731-c1b0b5e7fd3e"
      },
      "source": [
        "type(test)"
      ],
      "execution_count": 112,
      "outputs": [
        {
          "output_type": "execute_result",
          "data": {
            "text/plain": [
              "NoneType"
            ]
          },
          "metadata": {
            "tags": []
          },
          "execution_count": 112
        }
      ]
    },
    {
      "cell_type": "markdown",
      "metadata": {
        "id": "KFjwAXR-bJIV"
      },
      "source": [
        "### Note : PERSON_GROUP_ID yo ta hamle "
      ]
    },
    {
      "cell_type": "code",
      "metadata": {
        "colab": {
          "base_uri": "https://localhost:8080/"
        },
        "id": "4crLmhX2fxx2",
        "outputId": "33b9ab19-d1af-42ef-935f-792e20dd21d1"
      },
      "source": [
        "type(woman)"
      ],
      "execution_count": 113,
      "outputs": [
        {
          "output_type": "execute_result",
          "data": {
            "text/plain": [
              "azure.cognitiveservices.vision.face.models._models_py3.Person"
            ]
          },
          "metadata": {
            "tags": []
          },
          "execution_count": 113
        }
      ]
    },
    {
      "cell_type": "code",
      "metadata": {
        "id": "LxsTHKMGac2D"
      },
      "source": [
        "woman.name"
      ],
      "execution_count": 109,
      "outputs": []
    },
    {
      "cell_type": "code",
      "metadata": {
        "colab": {
          "base_uri": "https://localhost:8080/",
          "height": 35
        },
        "id": "lsTpTcI0aqmE",
        "outputId": "98f39df9-734c-4478-f5dc-e5b5e898e48b"
      },
      "source": [
        "man.person_id"
      ],
      "execution_count": 110,
      "outputs": [
        {
          "output_type": "execute_result",
          "data": {
            "application/vnd.google.colaboratory.intrinsic+json": {
              "type": "string"
            },
            "text/plain": [
              "'c55cf00e-0818-4613-a7ea-589b6b66372b'"
            ]
          },
          "metadata": {
            "tags": []
          },
          "execution_count": 110
        }
      ]
    },
    {
      "cell_type": "code",
      "metadata": {
        "id": "pSWplym4awSI"
      },
      "source": [
        ""
      ],
      "execution_count": null,
      "outputs": []
    },
    {
      "cell_type": "markdown",
      "metadata": {
        "id": "ouifVF-nj1k3"
      },
      "source": [
        "# One of the solution is zip personal_id with name"
      ]
    },
    {
      "cell_type": "markdown",
      "metadata": {
        "id": "1Ps8F-jTMYcY"
      },
      "source": [
        "### Step 2 : auta group vaisakyo mathi , aba tyo bhitra persons ra tiniharuko faces lai add garxa"
      ]
    },
    {
      "cell_type": "code",
      "metadata": {
        "id": "Wyut72ZPM1w6"
      },
      "source": [
        "'''\n",
        "Detect faces and register to correct person\n",
        "'''\n",
        "# Find all jpeg images of friends in working directory\n",
        "woman_images = [file for file in glob.glob('*.jpg') if file.startswith(\"w\")] # kunai auta person ko image list\n",
        "man_images = [file for file in glob.glob('*.jpg') if file.startswith(\"m\")] # kunai arko person ko image list\n",
        "child_images = [file for file in glob.glob('*.jpg') if file.startswith(\"ch\")] # kunai arko person ko image list\n",
        " \n",
        "# Add to a woman person\n",
        "for image in woman_images:\n",
        "    w = open(image, 'r+b')\n",
        "    face_client.person_group_person.add_face_from_stream(PERSON_GROUP_ID, woman.person_id, w) # Baduwal family person_group_id ma madan ko id and madan ko image rakhdenxa\n",
        "\n",
        "# Add to a man person\n",
        "for image in man_images:\n",
        "    m = open(image, 'r+b')\n",
        "    face_client.person_group_person.add_face_from_stream(PERSON_GROUP_ID, man.person_id, m) # Baduwal family person_group_id ma tapendra ko id and tapendra ko image rakhdenxa \n",
        "\n",
        "# Add to a child person\n",
        "for image in child_images:\n",
        "    ch = open(image, 'r+b')\n",
        "    face_client.person_group_person.add_face_from_stream(PERSON_GROUP_ID, child.person_id, ch)"
      ],
      "execution_count": 78,
      "outputs": []
    },
    {
      "cell_type": "code",
      "metadata": {
        "colab": {
          "base_uri": "https://localhost:8080/"
        },
        "id": "FVrwbVEfQFJP",
        "outputId": "c1a720e9-8a7c-4da3-a77f-433c358be932"
      },
      "source": [
        "woman_images"
      ],
      "execution_count": 73,
      "outputs": [
        {
          "output_type": "execute_result",
          "data": {
            "text/plain": [
              "[]"
            ]
          },
          "metadata": {
            "tags": []
          },
          "execution_count": 73
        }
      ]
    },
    {
      "cell_type": "markdown",
      "metadata": {
        "id": "GTzkUxFzOpaA"
      },
      "source": [
        "\n",
        "### Step 2 : Train PersonGroup (note :  sabai manxeyako akkachoti train garauni raixa)\n",
        "\n",
        "Once you've assigned faces, you must train the PersonGroup so that it can identify the visual features associated with each of its Person objects. The following code calls the asynchronous train method and polls the result, printing the status to the console."
      ]
    },
    {
      "cell_type": "code",
      "metadata": {
        "colab": {
          "base_uri": "https://localhost:8080/",
          "height": 256
        },
        "id": "qoH51sMTPvkf",
        "outputId": "7d34dc28-5476-4528-a7b7-6dbb12ceefc5"
      },
      "source": [
        "'''\n",
        "Train PersonGroup\n",
        "'''\n",
        "print()\n",
        "print('Training the person group...')\n",
        "# Train the person group\n",
        "face_client.person_group.train(PERSON_GROUP_ID)\n",
        "\n",
        "while (True):\n",
        "    training_status = face_client.person_group.get_training_status(PERSON_GROUP_ID)\n",
        "    print(\"Training status: {}.\".format(training_status.status))\n",
        "    print()\n",
        "    if (training_status.status is TrainingStatusType.succeeded):\n",
        "        break\n",
        "    elif (training_status.status is TrainingStatusType.failed):\n",
        "        face_client.person_group.delete(person_group_id=PERSON_GROUP_ID)\n",
        "        sys.exit('Training the person group has failed.')\n",
        "    time.sleep(5)"
      ],
      "execution_count": 75,
      "outputs": [
        {
          "output_type": "stream",
          "text": [
            "\n",
            "Training the person group...\n",
            "Training status: running.\n",
            "\n",
            "Training status: failed.\n",
            "\n"
          ],
          "name": "stdout"
        },
        {
          "output_type": "error",
          "ename": "SystemExit",
          "evalue": "ignored",
          "traceback": [
            "An exception has occurred, use %tb to see the full traceback.\n",
            "\u001b[0;31mSystemExit\u001b[0m\u001b[0;31m:\u001b[0m Training the person group has failed.\n"
          ]
        },
        {
          "output_type": "stream",
          "text": [
            "/usr/local/lib/python3.7/dist-packages/IPython/core/interactiveshell.py:2890: UserWarning: To exit: use 'exit', 'quit', or Ctrl-D.\n",
            "  warn(\"To exit: use 'exit', 'quit', or Ctrl-D.\", stacklevel=1)\n"
          ],
          "name": "stderr"
        }
      ]
    },
    {
      "cell_type": "markdown",
      "metadata": {
        "id": "itOGw5yVWrnQ"
      },
      "source": [
        "### Step 3 : Identify a face\n",
        "\n",
        "The Identify operation takes an image of a person (or multiple people) and looks to find the identity of each face in the image (facial recognition search). It compares each detected face to a PersonGroup, a database of different Person objects whose facial features are known."
      ]
    },
    {
      "cell_type": "markdown",
      "metadata": {
        "id": "azZQmN8cXU_a"
      },
      "source": [
        "#### Get a test image"
      ]
    },
    {
      "cell_type": "code",
      "metadata": {
        "id": "ZqmJVWFLQDW4"
      },
      "source": [
        "'''\n",
        "Identify a face against a defined PersonGroup\n",
        "'''\n",
        "# Group image for testing against\n",
        "test_image_array = glob.glob('test-image-person-group.jpg')\n",
        "image = open(test_image_array[0], 'r+b')\n",
        "\n",
        "print('Pausing for 60 seconds to avoid triggering rate limit on free account...')\n",
        "time.sleep (60)\n",
        "\n",
        "# Detect faces\n",
        "face_ids = []\n",
        "# We use detection model 3 to get better performance.\n",
        "faces = face_client.face.detect_with_stream(image, detection_model='detection_03')\n",
        "for face in faces:\n",
        "    face_ids.append(face.face_id)"
      ],
      "execution_count": null,
      "outputs": []
    },
    {
      "cell_type": "markdown",
      "metadata": {
        "id": "FMzBcZITXkf6"
      },
      "source": [
        "### Identify faces\n",
        "\n",
        "The identify method takes an array of detected faces and compares them to a PersonGroup. If it can match a detected face to a Person, it saves the result. This code prints detailed match results to the console."
      ]
    },
    {
      "cell_type": "code",
      "metadata": {
        "id": "JCTPWjM9XmX1"
      },
      "source": [
        "# Identify faces\n",
        "results = face_client.face.identify(face_ids, PERSON_GROUP_ID) # \n",
        "print('Identifying faces in {}'.format(os.path.basename(image.name)))\n",
        "if not results:\n",
        "    print('No person identified in the person group for faces from {}.'.format(os.path.basename(image.name)))\n",
        "for person in results:\n",
        "    if len(person.candidates) > 0:\n",
        "        print('Person for face ID {} is identified in {} with a confidence of {}.'.format(person.face_id, os.path.basename(image.name), person.candidates[0].confidence)) # Get topmost confidence score\n",
        "    else:\n",
        "        print('No person identified for face ID {} in {}.'.format(person.face_id, os.path.basename(image.name)))"
      ],
      "execution_count": null,
      "outputs": []
    },
    {
      "cell_type": "markdown",
      "metadata": {
        "id": "v7pDKm6CZId8"
      },
      "source": [
        "###  Verify faces(kunai 2 ota test images lini , tyo duita image autai ho ki haina vanyara verify garni)"
      ]
    }
  ]
}